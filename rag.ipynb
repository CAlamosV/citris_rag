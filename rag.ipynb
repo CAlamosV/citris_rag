{
 "cells": [
  {
   "cell_type": "code",
   "execution_count": 1,
   "metadata": {},
   "outputs": [
    {
     "name": "stderr",
     "output_type": "stream",
     "text": [
      "/var/folders/7v/6lrll0c16r142j8200yccjz00000gn/T/ipykernel_53327/1793699707.py:6: DeprecationWarning: Importing display from IPython.core.display is deprecated since IPython 7.14, please import from IPython display\n",
      "  from IPython.core.display import display, HTML\n"
     ]
    }
   ],
   "source": [
    "import os\n",
    "from openai import OpenAI\n",
    "from typing_extensions import override\n",
    "import pandas as pd\n",
    "from openai import AssistantEventHandler\n",
    "from IPython.core.display import display, HTML\n",
    "import webbrowser\n",
    "import tempfile\n",
    "import re\n",
    "import warnings\n",
    "warnings.filterwarnings('ignore')\n",
    "\n",
    "client = OpenAI()"
   ]
  },
  {
   "cell_type": "code",
   "execution_count": 8,
   "metadata": {},
   "outputs": [],
   "source": [
    "instructions = \"\"\"\n",
    "You are an assistant that points users to which individuals have similar research interests using the documents provided to you.\n",
    "When a user states their interests, you must provide a summary of the individuals that most resemble the user's interests and \n",
    "explain what in particular they have done or are doing that is similar to the user's interests.\n",
    "Please use newlines to separate every single one of your sentences.\n",
    "\"\"\"\n",
    "\n",
    "query = \"\"\"I'm interested in solar panels for EVs.\"\"\""
   ]
  },
  {
   "cell_type": "code",
   "execution_count": 9,
   "metadata": {},
   "outputs": [],
   "source": [
    "# Step 1: Create a new Assistant with File Search Enabled\n",
    "assistant = client.beta.assistants.create(\n",
    "    name=\"Research Expertise Assistant\",\n",
    "    instructions=instructions,\n",
    "    model=\"gpt-4o\",\n",
    "    tools=[{\"type\": \"file_search\"}],\n",
    ")\n",
    "\n",
    "# Step 2: Upload files and add them to a Vector Store\n",
    "vector_store = client.beta.vector_stores.create(name=\"PI Bios\")\n",
    "file_paths = [\"data/file1.txt\"]\n",
    "file_streams = [open(path, \"rb\") for path in file_paths]\n",
    "file_batch = client.beta.vector_stores.file_batches.upload_and_poll(\n",
    "    vector_store_id=vector_store.id, files=file_streams\n",
    ")\n",
    "\n",
    "# Step 3: Update the assistant to use the new Vector Store\n",
    "assistant = client.beta.assistants.update(\n",
    "    assistant_id=assistant.id,\n",
    "    tool_resources={\"file_search\": {\"vector_store_ids\": [vector_store.id]}},\n",
    ")\n",
    "\n",
    "# Step 4: Query the assistant with question\n",
    "class EventHandler(AssistantEventHandler):\n",
    "    @override\n",
    "    def on_text_created(self, text) -> None:\n",
    "        print(f\"\\nassistant > \", end=\"\", flush=True)\n",
    "    \n",
    "    @override\n",
    "    def on_text_delta(self, delta, snapshot):\n",
    "        print(delta.value, end=\"\", flush=True)\n",
    "    \n",
    "    def on_tool_call_created(self, tool_call):\n",
    "        print(f\"\\nassistant > {tool_call.type}\\n\", flush=True)\n",
    "    \n",
    "    def on_tool_call_delta(self, delta, snapshot):\n",
    "        if delta.type == 'code_interpreter':\n",
    "            if delta.code_interpreter.input:\n",
    "                print(delta.code_interpreter.input, end=\"\", flush=True)\n",
    "            if delta.code_interpreter.outputs:\n",
    "                print(f\"\\n\\noutput >\", flush=True)\n",
    "                for output in delta.code_interpreter.outputs:\n",
    "                    if output.type == \"logs\":\n",
    "                        print(f\"\\n{output.logs}\", flush=True)\n",
    "\n",
    "thread = client.beta.threads.create(\n",
    "        messages=[{\"role\": \"user\", \"content\": query, \"attachments\": []}],\n",
    "        tool_resources={\"file_search\": {\"vector_store_ids\": [vector_store.id]}}\n",
    "    )"
   ]
  },
  {
   "cell_type": "code",
   "execution_count": 10,
   "metadata": {},
   "outputs": [
    {
     "name": "stdout",
     "output_type": "stream",
     "text": [
      "\n",
      "assistant > file_search\n",
      "\n",
      "\n",
      "assistant > Here are some researchers whose work aligns with your interest in solar panels for electric vehicles (EVs):\n",
      "\n",
      "1. **Rajeevan Amirtharajah**:\n",
      "   - **Research Interests**: Focuses on the development and implementation of electronic systems powered by energy harvested from the environment. His research includes the conversion of incident light (solar energy harvesting) into electrical form and power electronics to generate stable supply voltages. He works on integrated solar cells for low-power applications, among other energy-harvesting technologies.\n",
      "   - **Applicable Work**: Rajeevan’s research on integrated solar cells and energy harvesting from light could directly contribute to innovations in solar panels for EVs.\n",
      "   - **Affiliation**: University of California, Davis, Department of Electrical and Computer Engineering.\n",
      "   - **More Information**: [Rajeevan Amirtharajah's Profile](https://faculty.engineering.ucdavis.edu/amirtharajah/biography/)【4:0†source】.\n",
      "\n",
      "His work particularly on integrated solar cells and energy-harvesting can be highly relevant to enhancing energy efficiency and solar energy integration in EVs."
     ]
    }
   ],
   "source": [
    "# Step 5: Stream the answer\n",
    "with client.beta.threads.runs.stream(\n",
    "  thread_id=thread.id,\n",
    "  assistant_id=assistant.id,\n",
    "  instructions=instructions,\n",
    "  event_handler=EventHandler(),\n",
    ") as stream:\n",
    "  stream.until_done()"
   ]
  },
  {
   "cell_type": "code",
   "execution_count": null,
   "metadata": {},
   "outputs": [],
   "source": []
  }
 ],
 "metadata": {
  "kernelspec": {
   "display_name": "Python 3",
   "language": "python",
   "name": "python3"
  },
  "language_info": {
   "codemirror_mode": {
    "name": "ipython",
    "version": 3
   },
   "file_extension": ".py",
   "mimetype": "text/x-python",
   "name": "python",
   "nbconvert_exporter": "python",
   "pygments_lexer": "ipython3",
   "version": "3.8.13"
  }
 },
 "nbformat": 4,
 "nbformat_minor": 2
}
